{
 "cells": [
  {
   "cell_type": "code",
   "execution_count": 46,
   "id": "6fbb170f-9371-41b0-bc0d-b957881aa993",
   "metadata": {},
   "outputs": [],
   "source": [
    "import json\n",
    "import csv\n",
    "import re\n",
    "import pandas as pd\n",
    "import os\n",
    "import pickle\n",
    "from fuzzywuzzy import fuzz"
   ]
  },
  {
   "cell_type": "code",
   "execution_count": 47,
   "id": "308876d1-ffc4-42bf-ab1c-0b35a72a4d7b",
   "metadata": {},
   "outputs": [],
   "source": [
    "def load_data_csv(note_name):\n",
    "    csv_file_path = './xhs/notes_' + note_name + \".csv\"\n",
    "    input_list = []\n",
    "    with open(csv_file_path, 'r', newline='',  encoding='utf-8') as file:\n",
    "        reader = csv.DictReader(file)\n",
    "        for row in reader:\n",
    "            desc = [row['\\ufeffnote_id'], row['desc'], row['liked_count']]\n",
    "            # print('desc = ', desc)\n",
    "            input_list.append(desc)\n",
    "    return input_list"
   ]
  },
  {
   "cell_type": "code",
   "execution_count": 48,
   "id": "b0cedb6a-7a02-4527-b93c-525f334f3edb",
   "metadata": {},
   "outputs": [],
   "source": [
    "note_name = 'LA_chinesefood'\n",
    "input_list = load_data_csv(note_name)"
   ]
  },
  {
   "cell_type": "code",
   "execution_count": null,
   "id": "df5141c7-f1d2-4688-9078-0bc1bea8ab82",
   "metadata": {},
   "outputs": [],
   "source": []
  },
  {
   "cell_type": "code",
   "execution_count": 49,
   "id": "aa69c63a-c347-4f8b-869f-385845b2d1a1",
   "metadata": {},
   "outputs": [],
   "source": [
    "# Assuming you have a JSON file named 'data.json'\n",
    "with open(note_name + '.json', 'r') as json_file:\n",
    "    data = json.load(json_file)"
   ]
  },
  {
   "cell_type": "code",
   "execution_count": 50,
   "id": "74b4c0ee-9b80-4fb7-b905-a6a4c4f24050",
   "metadata": {},
   "outputs": [],
   "source": [
    "for key in data:\n",
    "    # print(data[key])\n",
    "    match_data = []\n",
    "    for note_id, doc, liked_count in input_list:\n",
    "        partial_similarity_ratio = fuzz.partial_ratio(key.lower(), doc.lower())\n",
    "\n",
    "        # if partial_similarity_ratio >= 50:\n",
    "        match_data.append([note_id, doc, liked_count, partial_similarity_ratio])\n",
    "\n",
    "    match_data = sorted(match_data, key=lambda x: (x[3]))[::-1]\n",
    "    match_data = match_data[:3]\n",
    "    while len(match_data) > 1 and match_data[-1][-1] < 70:\n",
    "        match_data.pop()\n",
    "    \n",
    "    match_data = sorted(match_data, key=lambda x: (x[2]))[::-1]\n",
    "    # print('key = ', key)\n",
    "    # print('match_data = ', match_data)\n",
    "    \n",
    "    match_data = [no[0] for no in match_data]\n",
    "    data[key]['note'] = match_data\n",
    "        "
   ]
  },
  {
   "cell_type": "code",
   "execution_count": 51,
   "id": "fb2613d7-9a1f-4e1e-bf3a-11c31408bfe9",
   "metadata": {},
   "outputs": [],
   "source": [
    "with open(f'./{note_name}.json', \"w\") as json_file:\n",
    "    json.dump(data, json_file)"
   ]
  },
  {
   "cell_type": "code",
   "execution_count": null,
   "id": "d5570761-bf51-4749-a92e-ad1767b1240e",
   "metadata": {},
   "outputs": [],
   "source": []
  },
  {
   "cell_type": "code",
   "execution_count": null,
   "id": "7f6cda01-19fd-49a0-b843-3dafd14f7b98",
   "metadata": {},
   "outputs": [],
   "source": []
  },
  {
   "cell_type": "code",
   "execution_count": null,
   "id": "da242423-bce0-4437-92f8-475e6f6d9013",
   "metadata": {},
   "outputs": [],
   "source": []
  }
 ],
 "metadata": {
  "kernelspec": {
   "display_name": "speed2go",
   "language": "python",
   "name": "speed2go"
  },
  "language_info": {
   "codemirror_mode": {
    "name": "ipython",
    "version": 3
   },
   "file_extension": ".py",
   "mimetype": "text/x-python",
   "name": "python",
   "nbconvert_exporter": "python",
   "pygments_lexer": "ipython3",
   "version": "3.9.16"
  }
 },
 "nbformat": 4,
 "nbformat_minor": 5
}
